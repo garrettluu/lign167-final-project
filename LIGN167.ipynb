{
 "cells": [
  {
   "cell_type": "code",
   "execution_count": 2,
   "id": "cfd25d72",
   "metadata": {},
   "outputs": [],
   "source": [
    "# Libraries\n",
    "from sklearn.model_selection import train_test_split\n",
    "from torchtext.legacy.data import Field, TabularDataset, BucketIterator, Dataset, Example\n",
    "import matplotlib.pyplot as plt\n",
    "import pandas as pd\n",
    "import torch\n",
    "import torch.nn as nn\n",
    "from torch.nn.utils.rnn import pack_padded_sequence, pad_packed_sequence\n",
    "import torch.optim as optim\n",
    "from sklearn.metrics import accuracy_score, classification_report, confusion_matrix\n",
    "import seaborn as sns"
   ]
  },
  {
   "cell_type": "code",
   "execution_count": 3,
   "id": "dd3e3f9b",
   "metadata": {},
   "outputs": [
    {
     "name": "stdout",
     "output_type": "stream",
     "text": [
      "real len:  16864\n",
      "fake len:  821\n"
     ]
    }
   ],
   "source": [
    "raw_data = pd.read_csv(\"./fake_job_postings.csv\", engine='python', on_bad_lines='skip')\n",
    "\n",
    "device = torch.device('cuda')\n",
    "raw_data.drop( raw_data[raw_data['description'].str.split().str.len() < 5].index, inplace=True)\n",
    "raw_data.drop( raw_data[raw_data['requirements'].str.split().str.len() < 5].index, inplace=True)\n",
    "raw_data['fraudulent'] = raw_data['fraudulent'].astype('int')\n",
    "\n",
    "raw_data = raw_data.reindex(columns=['fraudulent', 'title', 'description', 'requirements'])\n",
    "\n",
    "real_data = raw_data[raw_data['fraudulent'] == 0]\n",
    "fake_data = raw_data[raw_data['fraudulent'] == 1]\n",
    "\n",
    "# downsample to balance the data\n",
    "# real_data = real_data[:(len(fake_data)*10)]\n",
    "print(\"real len: \", len(real_data))\n",
    "print(\"fake len: \", len(fake_data))\n",
    "\n",
    "train_test_ratio = 0.10\n",
    "train_valid_ratio = .80\n",
    "real_full_train, real_test = train_test_split(real_data, train_size = train_test_ratio, random_state=42)\n",
    "fake_full_train, fake_test = train_test_split(fake_data, train_size = train_test_ratio, random_state=42)\n",
    "real_train, real_valid = train_test_split(real_full_train, train_size = train_valid_ratio, random_state=42)\n",
    "fake_train, fake_valid = train_test_split(fake_full_train, train_size = train_valid_ratio, random_state=42)\n",
    "train = pd.concat([real_train, fake_train], ignore_index=True, sort=False)\n",
    "valid = pd.concat([real_valid, fake_valid], ignore_index=True, sort=False)\n",
    "test = pd.concat([real_test, fake_test], ignore_index=True, sort=False)\n",
    "train_csv = train\n",
    "train.to_csv('./train.csv', index=False)\n",
    "valid.to_csv('./valid.csv', index=False)\n",
    "test.to_csv('./test.csv', index=False)"
   ]
  },
  {
   "cell_type": "code",
   "execution_count": 39,
   "id": "0d25eb90",
   "metadata": {},
   "outputs": [],
   "source": [
    "# hyperparams\n",
    "epochs = 20\n",
    "hidden = 16\n",
    "batch_size = 8\n",
    "dropout = .5\n",
    "learning_rate = .001\n",
    "\n",
    "label_field = Field(sequential=False, use_vocab=False, batch_first=True, dtype=torch.float)\n",
    "text_field = Field( lower=True, include_lengths=True, batch_first=True)\n",
    "fields = [('fraudulent', label_field), ('title', text_field), ('description', text_field), ('requirements', text_field)]\n",
    "train, valid, test = TabularDataset.splits(path='./', train='train.csv', validation='valid.csv', test='test.csv',\n",
    "                                           format='CSV', fields=fields, skip_header=True)\n",
    "\n",
    "train_iter = BucketIterator(train, batch_size=batch_size, sort_key=lambda x: len(x.title),\n",
    "                            device=device, sort=True, sort_within_batch=True)\n",
    "valid_iter = BucketIterator(valid, batch_size=batch_size, sort_key=lambda x: len(x.title),\n",
    "                            device=device, sort=True, sort_within_batch=True)\n",
    "test_iter = BucketIterator(test, batch_size=batch_size, sort_key=lambda x: len(x.title),\n",
    "                            device=device, sort=True, sort_within_batch=True)\n",
    "\n",
    "text_field.build_vocab(train, min_freq=3)\n",
    "\n",
    "class LSTM(nn.Module):\n",
    "    def __init__(self, dimension):\n",
    "        super(LSTM, self).__init__()\n",
    "        self.embedding = nn.Embedding(len(text_field.vocab), 300)\n",
    "        self.dimension = dimension\n",
    "        self.lstm = nn.LSTM(input_size=300,\n",
    "                            hidden_size=dimension,\n",
    "                            num_layers=1,\n",
    "                            batch_first=True)\n",
    "        self.drop = nn.Dropout(p=dropout)\n",
    "        self.linear = nn.Linear(dimension,1)\n",
    "  \n",
    "    def forward(self, text, text_len):\n",
    "        embedding = self.embedding(text)\n",
    "        packed_input = pack_padded_sequence(embedding, text_len, batch_first=True, enforce_sorted=False)\n",
    "        packed_output, _ = self.lstm(packed_input)\n",
    "        unpacked_output, _ = pad_packed_sequence(packed_output, batch_first=True)\n",
    "        output = unpacked_output[range(len(unpacked_output)), text_len - 1, :self.dimension]\n",
    "\n",
    "        output = self.drop(output)\n",
    "\n",
    "        output = self.linear(output)\n",
    "        output = torch.squeeze(output)\n",
    "        output = torch.sigmoid(output)\n",
    "\n",
    "        return output\n",
    "\n",
    "def BCELoss_weighted(weights):\n",
    "    def loss(input, target):\n",
    "        input = torch.clamp(input,min=1e-7, max=1-1e-7)\n",
    "        bce = -weights[1] * target * torch.log(input) - (1 - target) * weights[0] * torch.log(1-input)\n",
    "        return torch.mean(bce)\n",
    "    \n",
    "    return loss"
   ]
  },
  {
   "cell_type": "code",
   "execution_count": 48,
   "id": "29ee5c39",
   "metadata": {},
   "outputs": [
    {
     "name": "stdout",
     "output_type": "stream",
     "text": [
      "Epoch: 1 of 20, Step: 23 of 920, Train Loss: 0.9193, Validation Loss: 1.3252\n",
      "Epoch: 1 of 20, Step: 46 of 920, Train Loss: 2.1012, Validation Loss: 1.2666\n",
      "Epoch: 2 of 20, Step: 69 of 920, Train Loss: 0.8711, Validation Loss: 1.2668\n",
      "Epoch: 2 of 20, Step: 92 of 920, Train Loss: 1.7482, Validation Loss: 1.2578\n",
      "Epoch: 3 of 20, Step: 115 of 920, Train Loss: 0.8960, Validation Loss: 1.2598\n",
      "Epoch: 3 of 20, Step: 138 of 920, Train Loss: 1.7015, Validation Loss: 1.2584\n",
      "Epoch: 4 of 20, Step: 161 of 920, Train Loss: 0.8540, Validation Loss: 1.2575\n",
      "Epoch: 4 of 20, Step: 184 of 920, Train Loss: 1.6342, Validation Loss: 1.2522\n",
      "Epoch: 5 of 20, Step: 207 of 920, Train Loss: 0.8657, Validation Loss: 1.2495\n",
      "Epoch: 5 of 20, Step: 230 of 920, Train Loss: 1.6078, Validation Loss: 1.2474\n",
      "Epoch: 6 of 20, Step: 253 of 920, Train Loss: 0.8508, Validation Loss: 1.2470\n",
      "Epoch: 6 of 20, Step: 276 of 920, Train Loss: 1.4495, Validation Loss: 1.2487\n",
      "Epoch: 7 of 20, Step: 299 of 920, Train Loss: 0.8321, Validation Loss: 1.2516\n",
      "Epoch: 7 of 20, Step: 322 of 920, Train Loss: 1.3994, Validation Loss: 1.2568\n",
      "Epoch: 8 of 20, Step: 345 of 920, Train Loss: 0.8285, Validation Loss: 1.2614\n",
      "Epoch: 8 of 20, Step: 368 of 920, Train Loss: 1.4059, Validation Loss: 1.2676\n",
      "Epoch: 9 of 20, Step: 391 of 920, Train Loss: 0.7885, Validation Loss: 1.2701\n",
      "Epoch: 9 of 20, Step: 414 of 920, Train Loss: 1.2931, Validation Loss: 1.2651\n",
      "Epoch: 10 of 20, Step: 437 of 920, Train Loss: 0.7487, Validation Loss: 1.2791\n",
      "Epoch: 10 of 20, Step: 460 of 920, Train Loss: 1.3189, Validation Loss: 1.2769\n",
      "Epoch: 11 of 20, Step: 483 of 920, Train Loss: 0.6923, Validation Loss: 1.2989\n",
      "Epoch: 11 of 20, Step: 506 of 920, Train Loss: 1.2397, Validation Loss: 1.2922\n",
      "Epoch: 12 of 20, Step: 529 of 920, Train Loss: 0.6716, Validation Loss: 1.2994\n",
      "Epoch: 12 of 20, Step: 552 of 920, Train Loss: 1.2470, Validation Loss: 1.2923\n",
      "Epoch: 13 of 20, Step: 575 of 920, Train Loss: 0.6441, Validation Loss: 1.3133\n",
      "Epoch: 13 of 20, Step: 598 of 920, Train Loss: 1.1586, Validation Loss: 1.2936\n",
      "Epoch: 14 of 20, Step: 621 of 920, Train Loss: 0.6508, Validation Loss: 1.3067\n",
      "Epoch: 14 of 20, Step: 644 of 920, Train Loss: 1.1534, Validation Loss: 1.3006\n",
      "Epoch: 15 of 20, Step: 667 of 920, Train Loss: 0.5952, Validation Loss: 1.3158\n",
      "Epoch: 15 of 20, Step: 690 of 920, Train Loss: 1.0446, Validation Loss: 1.3049\n",
      "Epoch: 16 of 20, Step: 713 of 920, Train Loss: 0.6068, Validation Loss: 1.3143\n",
      "Epoch: 16 of 20, Step: 736 of 920, Train Loss: 1.0073, Validation Loss: 1.3156\n",
      "Epoch: 17 of 20, Step: 759 of 920, Train Loss: 0.5673, Validation Loss: 1.3392\n",
      "Epoch: 17 of 20, Step: 782 of 920, Train Loss: 1.0983, Validation Loss: 1.3185\n",
      "Epoch: 18 of 20, Step: 805 of 920, Train Loss: 0.5741, Validation Loss: 1.3518\n",
      "Epoch: 18 of 20, Step: 828 of 920, Train Loss: 0.9685, Validation Loss: 1.3524\n",
      "Epoch: 19 of 20, Step: 851 of 920, Train Loss: 0.5507, Validation Loss: 1.3586\n",
      "Epoch: 19 of 20, Step: 874 of 920, Train Loss: 0.9957, Validation Loss: 1.3412\n",
      "Epoch: 20 of 20, Step: 897 of 920, Train Loss: 0.5080, Validation Loss: 1.3915\n",
      "Epoch: 20 of 20, Step: 920 of 920, Train Loss: 0.8967, Validation Loss: 1.3543\n",
      "[1.3252215708295505, 1.2665802041689556, 1.2668125927448273, 1.257760485013326, 1.2598350793123245, 1.2584272225697835, 1.2574563672145207, 1.2521928250789642, 1.2494735916455586, 1.2474359025557835, 1.2469642162322998, 1.2486886878808339, 1.2515602161486943, 1.256818249821663, 1.261356587211291, 1.2675663232803345, 1.2701314737399418, 1.2651312251885731, 1.2790845235188801, 1.2768835127353668, 1.2988734791676204, 1.2922475586334865, 1.2994128863016765, 1.2922861923774083, 1.313316208620866, 1.2936006436745326, 1.3067397524913151, 1.3005691319704056, 1.3158237114548683, 1.3049488067626953, 1.3142952273289363, 1.3155966798464458, 1.3392002508044243, 1.318540208041668, 1.3517735128601391, 1.3523677363991737, 1.3585661724209785, 1.3411886145671208, 1.3915253827969234, 1.354285421470801]\n"
     ]
    },
    {
     "data": {
      "image/png": "[encoded data removed]",
      "text/plain": [
       "<Figure size 432x288 with 1 Axes>"
      ]
     },
     "metadata": {
      "needs_background": "light"
     },
     "output_type": "display_data"
    }
   ],
   "source": [
    "def train(model, \n",
    "          optimizer,  \n",
    "          criterion=BCELoss_weighted([1, len(real_data) / len(fake_data)]), \n",
    "#           criterion=nn.BCELoss(),\n",
    "          checkpoint = len(train_iter) // 2):\n",
    "    \n",
    "    train_losses = []\n",
    "    valid_losses = []\n",
    "    steps = []\n",
    "\n",
    "    running_loss = 0.0\n",
    "    valid_running_loss = 0.0\n",
    "    step = 0\n",
    "    \n",
    "    model.train()\n",
    "    for epoch in range(epochs):\n",
    "        for (labels, (title, title_len), (description, description_len), (req, req_length)), _ in train_iter:\n",
    "            labels = labels.to(device)\n",
    "            text = torch.cat((description, req), dim=-1)\n",
    "            text_len = torch.add(description_len, req_length)\n",
    "#             text = description\n",
    "#             text_len = description_len\n",
    "            #print(description_len.size())\n",
    "            text = text.to(device)\n",
    "            text_len = text_len.to(torch.device('cpu'))\n",
    "            output = model(text, text_len)\n",
    "        \n",
    "\n",
    "            #print(labels)\n",
    "            loss = criterion(output, labels)\n",
    "            optimizer.zero_grad()\n",
    "            loss.backward()\n",
    "            optimizer.step()\n",
    "\n",
    "            running_loss += loss.item()\n",
    "            step += 1\n",
    "\n",
    "            if step % checkpoint == 0:\n",
    "                model.eval()\n",
    "                with torch.no_grad():                    \n",
    "                    for (labels, (title, title_len), (description, description_len), (req, req_len)), _ in valid_iter:\n",
    "                       \n",
    "                        labels = labels.to(device)\n",
    "                        text = torch.cat((description, req), dim=-1)\n",
    "                        text_len = torch.add(description_len, req_len)\n",
    "#                         text = description\n",
    "#                         text_len = description_len\n",
    "                        text = text.to(device)\n",
    "                        text_len = text_len.to(torch.device('cpu'))\n",
    "                        output = model(text, text_len)\n",
    "                        \n",
    "                        \n",
    "                        loss = criterion(output, labels)\n",
    "                        valid_running_loss += loss.item()\n",
    "\n",
    "                average_train_loss = running_loss / checkpoint\n",
    "                average_valid_loss = valid_running_loss / len(valid_iter)\n",
    "                train_losses.append(average_train_loss)\n",
    "                valid_losses.append(average_valid_loss)\n",
    "                steps.append(step)\n",
    "\n",
    "                running_loss = 0.0                \n",
    "                valid_running_loss = 0.0\n",
    "                model.train()\n",
    "\n",
    "                print('Epoch: {} of {}, Step: {} of {}, Train Loss: {:.4f}, Validation Loss: {:.4f}'\n",
    "                          .format(epoch+1, epochs, step, epochs*len(train_iter),\n",
    "                                  average_train_loss, average_valid_loss))\n",
    "                \n",
    "    plt.plot(steps, valid_losses, label=\"Validation Loss\")\n",
    "    plt.plot(steps, train_losses, label=\"Training Loss\")\n",
    "    plt.xlabel(\"Steps\")\n",
    "    plt.ylabel(\"Loss\")\n",
    "    plt.legend()\n",
    "    \n",
    "    print(valid_losses)\n",
    "\n",
    "model = LSTM(dimension=hidden).to(device)\n",
    "\n",
    "train(model=model, optimizer=optim.Adam(model.parameters(), lr=learning_rate))\n",
    "torch.save(model.state_dict(), \"model.pt\")\n",
    "\n",
    "\n",
    "    "
   ]
  },
  {
   "cell_type": "code",
   "execution_count": 50,
   "id": "8587397c",
   "metadata": {},
   "outputs": [
    {
     "name": "stdout",
     "output_type": "stream",
     "text": [
      "encountered empty description, skipping\n",
      "              precision    recall  f1-score   support\n",
      "\n",
      "           1     0.1330    0.1618    0.1460       723\n",
      "           0     0.9162    0.8967    0.9064      7389\n",
      "\n",
      "    accuracy                         0.8312      8112\n",
      "   macro avg     0.5246    0.5293    0.5262      8112\n",
      "weighted avg     0.8464    0.8312    0.8386      8112\n",
      "\n"
     ]
    },
    {
     "data": {
      "text/plain": [
       "[Text(0, 0.5, 'FRAUDULENT'), Text(0, 1.5, 'REAL')]"
      ]
     },
     "execution_count": 50,
     "metadata": {},
     "output_type": "execute_result"
    },
    {
     "data": {
      "image/png": "[encoded data removed]",
      "text/plain": [
       "<Figure size 432x288 with 2 Axes>"
      ]
     },
     "metadata": {
      "needs_background": "light"
     },
     "output_type": "display_data"
    }
   ],
   "source": [
    "# test model\n",
    "model.load_state_dict(torch.load(\"model.pt\"))\n",
    "model.eval()\n",
    "with torch.no_grad():\n",
    "    predictions = []\n",
    "    actual = []\n",
    "    for (labels, (title,title_len), (description, description_len), (req, req_len)), _ in test_iter:\n",
    "        try:\n",
    "            labels = labels.to(device)\n",
    "            description = description.to(device)\n",
    "            description_len = description_len.to(torch.device('cpu'))\n",
    "            output = model(description, description_len)\n",
    "            output = (output > .5).int()\n",
    "            predictions.extend(output.tolist())\n",
    "            actual.extend(labels.tolist())\n",
    "        except:\n",
    "            print(\"encountered empty description, skipping\")\n",
    "#             print(description)\n",
    "#             print(description_len)\n",
    "   \n",
    "print(classification_report(actual, predictions, labels=[1,0], digits=4))\n",
    "cm = confusion_matrix(actual, predictions, labels=[1,0])\n",
    "ax= plt.subplot()\n",
    "sns.heatmap(cm, annot=True, ax = ax, cmap='Blues', fmt=\"d\")\n",
    "\n",
    "ax.set_title('Confusion Matrix')\n",
    "\n",
    "ax.set_xlabel('Predicted Labels')\n",
    "ax.set_ylabel('True Labels')\n",
    "\n",
    "ax.xaxis.set_ticklabels(['FRAUDULENT', 'REAL'])\n",
    "ax.yaxis.set_ticklabels(['FRAUDULENT', 'REAL'])"
   ]
  },
  {
   "cell_type": "code",
   "execution_count": 46,
   "id": "d01a46a0",
   "metadata": {},
   "outputs": [
    {
     "data": {
      "text/plain": [
       "[0.55, 5.5]"
      ]
     },
     "execution_count": 46,
     "metadata": {},
     "output_type": "execute_result"
    }
   ],
   "source": []
  },
  {
   "cell_type": "code",
   "execution_count": null,
   "id": "a37b0c2e",
   "metadata": {},
   "outputs": [],
   "source": []
  }
 ],
 "metadata": {
  "kernelspec": {
   "display_name": "Python 3 (ipykernel)",
   "language": "python",
   "name": "python3"
  },
  "language_info": {
   "codemirror_mode": {
    "name": "ipython",
    "version": 3
   },
   "file_extension": ".py",
   "mimetype": "text/x-python",
   "name": "python",
   "nbconvert_exporter": "python",
   "pygments_lexer": "ipython3",
   "version": "3.9.5"
  }
 },
 "nbformat": 4,
 "nbformat_minor": 5
}
